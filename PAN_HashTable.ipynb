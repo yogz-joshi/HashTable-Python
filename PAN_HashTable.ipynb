{
 "cells": [
  {
   "cell_type": "code",
   "execution_count": 2,
   "metadata": {},
   "outputs": [
    {
     "name": "stdout",
     "output_type": "stream",
     "text": [
      "-1\n",
      "-1\n"
     ]
    }
   ],
   "source": [
    "arr=[[('wer','noida'),('wewqa','agra')],[-1,-1],[-1,-1],[('rtqa','mathura')]]\n",
    "for item in arr[1]:\n",
    "    print(item)"
   ]
  },
  {
   "cell_type": "code",
   "execution_count": 26,
   "metadata": {},
   "outputs": [
    {
     "name": "stdout",
     "output_type": "stream",
     "text": [
      "[[(-1, -1), (-1, -1), (-1, -1), (-1, -1)], [(-1, -1), (-1, -1), (-1, -1), (-1, -1)], [(-1, -1), (-1, -1), (-1, -1), (-1, -1)], [(-1, -1), (-1, -1), (-1, -1), (-1, -1)], [(-1, -1), (-1, -1), (-1, -1), (-1, -1)], [(-1, -1), (-1, -1), (-1, -1), (-1, -1)], [(-1, -1), (-1, -1), (-1, -1), (-1, -1)], [(-1, -1), (-1, -1), (-1, -1), (-1, -1)], [(-1, -1), (-1, -1), (-1, -1), (-1, -1)], [(-1, -1), (-1, -1), (-1, -1), (-1, -1)]]\n"
     ]
    }
   ],
   "source": [
    "row=10;col=4\n",
    "arr=[[(-1,-1) for i in range(col) ] for j in range(row)]\n",
    "print(arr)"
   ]
  },
  {
   "cell_type": "code",
   "execution_count": 79,
   "metadata": {},
   "outputs": [
    {
     "name": "stdout",
     "output_type": "stream",
     "text": [
      "\n"
     ]
    }
   ],
   "source": [
    "from tkinter import Tk     # from tkinter import Tk for Python 3.x\n",
    "from tkinter.filedialog import askopenfilename\n",
    "\n",
    "Tk().withdraw() # we don't want a full GUI, so keep the root window from appearing\n",
    "filename = askopenfilename() # show an \"Open\" dialog box and return the path to the selected file\n",
    "print(filename)"
   ]
  },
  {
   "cell_type": "code",
   "execution_count": null,
   "metadata": {
    "scrolled": true
   },
   "outputs": [
    {
     "name": "stdout",
     "output_type": "stream",
     "text": [
      "*******SELECT FILE FROM OPENED WINDOW*******\n",
      "C:/Users/yjoshi5.EAD/Desktop/Python/Python_basics/Assignement-BITS/text sample data.txt\n",
      "Step 1- 2D Array Created: [[[-1, -1], [-1, -1], [-1, -1], [-1, -1], [-1, -1], [-1, -1], [-1, -1], [-1, -1], [-1, -1], [-1, -1]], [[-1, -1], [-1, -1], [-1, -1], [-1, -1], [-1, -1], [-1, -1], [-1, -1], [-1, -1], [-1, -1], [-1, -1]], [[-1, -1], [-1, -1], [-1, -1], [-1, -1], [-1, -1], [-1, -1], [-1, -1], [-1, -1], [-1, -1], [-1, -1]], [[-1, -1], [-1, -1], [-1, -1], [-1, -1], [-1, -1], [-1, -1], [-1, -1], [-1, -1], [-1, -1], [-1, -1]], [[-1, -1], [-1, -1], [-1, -1], [-1, -1], [-1, -1], [-1, -1], [-1, -1], [-1, -1], [-1, -1], [-1, -1]], [[-1, -1], [-1, -1], [-1, -1], [-1, -1], [-1, -1], [-1, -1], [-1, -1], [-1, -1], [-1, -1], [-1, -1]], [[-1, -1], [-1, -1], [-1, -1], [-1, -1], [-1, -1], [-1, -1], [-1, -1], [-1, -1], [-1, -1], [-1, -1]], [[-1, -1], [-1, -1], [-1, -1], [-1, -1], [-1, -1], [-1, -1], [-1, -1], [-1, -1], [-1, -1], [-1, -1]], [[-1, -1], [-1, -1], [-1, -1], [-1, -1], [-1, -1], [-1, -1], [-1, -1], [-1, -1], [-1, -1], [-1, -1]], [[-1, -1], [-1, -1], [-1, -1], [-1, -1], [-1, -1], [-1, -1], [-1, -1], [-1, -1], [-1, -1], [-1, -1]]]\n",
      "text_reader =['TNGB02134H MANU PRATAP GOA\\n', 'BHEH2134YF MAYA SINGH GAYA\\n', 'TNHJ32452Y HAMIR SUDHA TAMIL\\n', 'BEXPJ8725J KOMAL BALA MATHURA\\n', 'EXBPJ2587J RAHUL DEV MAYAPURI']\n",
      "****************text file************************\n",
      "key=TNGB02134H\n",
      "value=['TNGB02134H', 'MANU PRATAP GOA\\n']\n",
      "------------For PAN= TNGB02134H---------------------\n",
      "Hash 1 Generated=6\n",
      "Hash 2 Generated=1\n",
      "self.arr[h1]=[[-1, -1], [-1, -1], [-1, -1], [-1, -1], [-1, -1], [-1, -1], [-1, -1], [-1, -1], [-1, -1], [-1, -1]]\n",
      "self.arr[h1][h2]=[-1, -1]\n",
      "No collision\n",
      "Final Hash Table= [[[-1, -1], [-1, -1], [-1, -1], [-1, -1], [-1, -1], [-1, -1], [-1, -1], [-1, -1], [-1, -1], [-1, -1]], [[-1, -1], [-1, -1], [-1, -1], [-1, -1], [-1, -1], [-1, -1], [-1, -1], [-1, -1], [-1, -1], [-1, -1]], [[-1, -1], [-1, -1], [-1, -1], [-1, -1], [-1, -1], [-1, -1], [-1, -1], [-1, -1], [-1, -1], [-1, -1]], [[-1, -1], [-1, -1], [-1, -1], [-1, -1], [-1, -1], [-1, -1], [-1, -1], [-1, -1], [-1, -1], [-1, -1]], [[-1, -1], [-1, -1], [-1, -1], [-1, -1], [-1, -1], [-1, -1], [-1, -1], [-1, -1], [-1, -1], [-1, -1]], [[-1, -1], [-1, -1], [-1, -1], [-1, -1], [-1, -1], [-1, -1], [-1, -1], [-1, -1], [-1, -1], [-1, -1]], [[-1, -1], ['TNGB02134H', 'MANU PRATAP GOA\\n'], [-1, -1], [-1, -1], [-1, -1], [-1, -1], [-1, -1], [-1, -1], [-1, -1], [-1, -1]], [[-1, -1], [-1, -1], [-1, -1], [-1, -1], [-1, -1], [-1, -1], [-1, -1], [-1, -1], [-1, -1], [-1, -1]], [[-1, -1], [-1, -1], [-1, -1], [-1, -1], [-1, -1], [-1, -1], [-1, -1], [-1, -1], [-1, -1], [-1, -1]], [[-1, -1], [-1, -1], [-1, -1], [-1, -1], [-1, -1], [-1, -1], [-1, -1], [-1, -1], [-1, -1], [-1, -1]]]\n",
      "****************text file************************\n",
      "key=BHEH2134YF\n",
      "value=['BHEH2134YF', 'MAYA SINGH GAYA\\n']\n",
      "------------For PAN= BHEH2134YF---------------------\n",
      "Hash 1 Generated=2\n",
      "Hash 2 Generated=0\n",
      "self.arr[h1]=[[-1, -1], [-1, -1], [-1, -1], [-1, -1], [-1, -1], [-1, -1], [-1, -1], [-1, -1], [-1, -1], [-1, -1]]\n",
      "self.arr[h1][h2]=[-1, -1]\n",
      "No collision\n",
      "Final Hash Table= [[[-1, -1], [-1, -1], [-1, -1], [-1, -1], [-1, -1], [-1, -1], [-1, -1], [-1, -1], [-1, -1], [-1, -1]], [[-1, -1], [-1, -1], [-1, -1], [-1, -1], [-1, -1], [-1, -1], [-1, -1], [-1, -1], [-1, -1], [-1, -1]], [['BHEH2134YF', 'MAYA SINGH GAYA\\n'], [-1, -1], [-1, -1], [-1, -1], [-1, -1], [-1, -1], [-1, -1], [-1, -1], [-1, -1], [-1, -1]], [[-1, -1], [-1, -1], [-1, -1], [-1, -1], [-1, -1], [-1, -1], [-1, -1], [-1, -1], [-1, -1], [-1, -1]], [[-1, -1], [-1, -1], [-1, -1], [-1, -1], [-1, -1], [-1, -1], [-1, -1], [-1, -1], [-1, -1], [-1, -1]], [[-1, -1], [-1, -1], [-1, -1], [-1, -1], [-1, -1], [-1, -1], [-1, -1], [-1, -1], [-1, -1], [-1, -1]], [[-1, -1], ['TNGB02134H', 'MANU PRATAP GOA\\n'], [-1, -1], [-1, -1], [-1, -1], [-1, -1], [-1, -1], [-1, -1], [-1, -1], [-1, -1]], [[-1, -1], [-1, -1], [-1, -1], [-1, -1], [-1, -1], [-1, -1], [-1, -1], [-1, -1], [-1, -1], [-1, -1]], [[-1, -1], [-1, -1], [-1, -1], [-1, -1], [-1, -1], [-1, -1], [-1, -1], [-1, -1], [-1, -1], [-1, -1]], [[-1, -1], [-1, -1], [-1, -1], [-1, -1], [-1, -1], [-1, -1], [-1, -1], [-1, -1], [-1, -1], [-1, -1]]]\n",
      "****************text file************************\n",
      "key=TNHJ32452Y\n",
      "value=['TNHJ32452Y', 'HAMIR SUDHA TAMIL\\n']\n",
      "------------For PAN= TNHJ32452Y---------------------\n",
      "Hash 1 Generated=4\n",
      "Hash 2 Generated=3\n",
      "self.arr[h1]=[[-1, -1], [-1, -1], [-1, -1], [-1, -1], [-1, -1], [-1, -1], [-1, -1], [-1, -1], [-1, -1], [-1, -1]]\n",
      "self.arr[h1][h2]=[-1, -1]\n",
      "No collision\n",
      "Final Hash Table= [[[-1, -1], [-1, -1], [-1, -1], [-1, -1], [-1, -1], [-1, -1], [-1, -1], [-1, -1], [-1, -1], [-1, -1]], [[-1, -1], [-1, -1], [-1, -1], [-1, -1], [-1, -1], [-1, -1], [-1, -1], [-1, -1], [-1, -1], [-1, -1]], [['BHEH2134YF', 'MAYA SINGH GAYA\\n'], [-1, -1], [-1, -1], [-1, -1], [-1, -1], [-1, -1], [-1, -1], [-1, -1], [-1, -1], [-1, -1]], [[-1, -1], [-1, -1], [-1, -1], [-1, -1], [-1, -1], [-1, -1], [-1, -1], [-1, -1], [-1, -1], [-1, -1]], [[-1, -1], [-1, -1], [-1, -1], ['TNHJ32452Y', 'HAMIR SUDHA TAMIL\\n'], [-1, -1], [-1, -1], [-1, -1], [-1, -1], [-1, -1], [-1, -1]], [[-1, -1], [-1, -1], [-1, -1], [-1, -1], [-1, -1], [-1, -1], [-1, -1], [-1, -1], [-1, -1], [-1, -1]], [[-1, -1], ['TNGB02134H', 'MANU PRATAP GOA\\n'], [-1, -1], [-1, -1], [-1, -1], [-1, -1], [-1, -1], [-1, -1], [-1, -1], [-1, -1]], [[-1, -1], [-1, -1], [-1, -1], [-1, -1], [-1, -1], [-1, -1], [-1, -1], [-1, -1], [-1, -1], [-1, -1]], [[-1, -1], [-1, -1], [-1, -1], [-1, -1], [-1, -1], [-1, -1], [-1, -1], [-1, -1], [-1, -1], [-1, -1]], [[-1, -1], [-1, -1], [-1, -1], [-1, -1], [-1, -1], [-1, -1], [-1, -1], [-1, -1], [-1, -1], [-1, -1]]]\n",
      "****************text file************************\n",
      "key=BEXPJ8725J\n",
      "value=['BEXPJ8725J', 'KOMAL BALA MATHURA\\n']\n",
      "------------For PAN= BEXPJ8725J---------------------\n",
      "Hash 1 Generated=0\n",
      "Hash 2 Generated=5\n",
      "self.arr[h1]=[[-1, -1], [-1, -1], [-1, -1], [-1, -1], [-1, -1], [-1, -1], [-1, -1], [-1, -1], [-1, -1], [-1, -1]]\n",
      "self.arr[h1][h2]=[-1, -1]\n",
      "No collision\n",
      "Final Hash Table= [[[-1, -1], [-1, -1], [-1, -1], [-1, -1], [-1, -1], ['BEXPJ8725J', 'KOMAL BALA MATHURA\\n'], [-1, -1], [-1, -1], [-1, -1], [-1, -1]], [[-1, -1], [-1, -1], [-1, -1], [-1, -1], [-1, -1], [-1, -1], [-1, -1], [-1, -1], [-1, -1], [-1, -1]], [['BHEH2134YF', 'MAYA SINGH GAYA\\n'], [-1, -1], [-1, -1], [-1, -1], [-1, -1], [-1, -1], [-1, -1], [-1, -1], [-1, -1], [-1, -1]], [[-1, -1], [-1, -1], [-1, -1], [-1, -1], [-1, -1], [-1, -1], [-1, -1], [-1, -1], [-1, -1], [-1, -1]], [[-1, -1], [-1, -1], [-1, -1], ['TNHJ32452Y', 'HAMIR SUDHA TAMIL\\n'], [-1, -1], [-1, -1], [-1, -1], [-1, -1], [-1, -1], [-1, -1]], [[-1, -1], [-1, -1], [-1, -1], [-1, -1], [-1, -1], [-1, -1], [-1, -1], [-1, -1], [-1, -1], [-1, -1]], [[-1, -1], ['TNGB02134H', 'MANU PRATAP GOA\\n'], [-1, -1], [-1, -1], [-1, -1], [-1, -1], [-1, -1], [-1, -1], [-1, -1], [-1, -1]], [[-1, -1], [-1, -1], [-1, -1], [-1, -1], [-1, -1], [-1, -1], [-1, -1], [-1, -1], [-1, -1], [-1, -1]], [[-1, -1], [-1, -1], [-1, -1], [-1, -1], [-1, -1], [-1, -1], [-1, -1], [-1, -1], [-1, -1], [-1, -1]], [[-1, -1], [-1, -1], [-1, -1], [-1, -1], [-1, -1], [-1, -1], [-1, -1], [-1, -1], [-1, -1], [-1, -1]]]\n",
      "****************text file************************\n",
      "key=EXBPJ2587J\n",
      "value=['EXBPJ2587J', 'RAHUL DEV MAYAPURI']\n",
      "------------For PAN= EXBPJ2587J---------------------\n",
      "Hash 1 Generated=0\n",
      "Hash 2 Generated=5\n",
      "self.arr[h1]=[[-1, -1], [-1, -1], [-1, -1], [-1, -1], [-1, -1], ['BEXPJ8725J', 'KOMAL BALA MATHURA\\n'], [-1, -1], [-1, -1], [-1, -1], [-1, -1]]\n",
      "self.arr[h1][h2]=['BEXPJ8725J', 'KOMAL BALA MATHURA\\n']\n",
      "collision occured\n",
      "Quadratic probing ,finding new index\n",
      "t=6\n",
      "self.arr[h1][t]=[-1, -1]\n",
      "New Index found ,resolving Collision,index= 6 inside arr.index= 0\n",
      "Final Hash Table= [[[-1, -1], [-1, -1], [-1, -1], [-1, -1], [-1, -1], ['BEXPJ8725J', 'KOMAL BALA MATHURA\\n'], ['EXBPJ2587J', 'RAHUL DEV MAYAPURI'], [-1, -1], [-1, -1], [-1, -1]], [[-1, -1], [-1, -1], [-1, -1], [-1, -1], [-1, -1], [-1, -1], [-1, -1], [-1, -1], [-1, -1], [-1, -1]], [['BHEH2134YF', 'MAYA SINGH GAYA\\n'], [-1, -1], [-1, -1], [-1, -1], [-1, -1], [-1, -1], [-1, -1], [-1, -1], [-1, -1], [-1, -1]], [[-1, -1], [-1, -1], [-1, -1], [-1, -1], [-1, -1], [-1, -1], [-1, -1], [-1, -1], [-1, -1], [-1, -1]], [[-1, -1], [-1, -1], [-1, -1], ['TNHJ32452Y', 'HAMIR SUDHA TAMIL\\n'], [-1, -1], [-1, -1], [-1, -1], [-1, -1], [-1, -1], [-1, -1]], [[-1, -1], [-1, -1], [-1, -1], [-1, -1], [-1, -1], [-1, -1], [-1, -1], [-1, -1], [-1, -1], [-1, -1]], [[-1, -1], ['TNGB02134H', 'MANU PRATAP GOA\\n'], [-1, -1], [-1, -1], [-1, -1], [-1, -1], [-1, -1], [-1, -1], [-1, -1], [-1, -1]], [[-1, -1], [-1, -1], [-1, -1], [-1, -1], [-1, -1], [-1, -1], [-1, -1], [-1, -1], [-1, -1], [-1, -1]], [[-1, -1], [-1, -1], [-1, -1], [-1, -1], [-1, -1], [-1, -1], [-1, -1], [-1, -1], [-1, -1], [-1, -1]], [[-1, -1], [-1, -1], [-1, -1], [-1, -1], [-1, -1], [-1, -1], [-1, -1], [-1, -1], [-1, -1], [-1, -1]]]\n"
     ]
    },
    {
     "name": "stdout",
     "output_type": "stream",
     "text": [
      "Enter PAN Number to Search or type 'exit' to close- EXBPJ2587J\n",
      "------------Searching PAN= EXBPJ2587J---------------------\n",
      "Hash 2 Generated=5\n",
      "t= 6\n",
      "key found at new index= 6\n",
      "The entry EXBPJ2587J does exist –RAHUL DEV MAYAPURI\n",
      "Enter PAN Number to Search or type 'exit' to close- \n",
      "Entered Pan does not have valid Assesse \n"
     ]
    }
   ],
   "source": [
    "'''\n",
    "PYTHON PROGRAMMING LANGUAGE\n",
    "CODING PLATFORM CAN BE USED- JUPYTER NOTEBOOK /SPYDER/ PYCHARM\n",
    " \n",
    "'''\n",
    "import os\n",
    "import sys\n",
    "import csv\n",
    "#Class definition\n",
    "\n",
    "def upload():\n",
    "        from tkinter import Tk \n",
    "        from tkinter.filedialog import askopenfilename    \n",
    "        Tk().withdraw() # we don't want a full GUI, so keep the root window from appearing\n",
    "        filename = askopenfilename() # show an \"Open\" dialog box and return the path to the selected file\n",
    "        print(filename)\n",
    "        return(filename)\n",
    "    \n",
    "def get_file_type(filename):\n",
    "    return filename.split('.')[1] \n",
    "\n",
    "class HashTable:\n",
    "    #Initialisation\n",
    "    def __init__(self,key,value):       \n",
    "        self.ROW=10\n",
    "        self.COL=10\n",
    "        self.key=key\n",
    "        self.value=value\n",
    "        #create 2D array (10*1000)\n",
    "        self.arr=[[[-1,-1] for i in range(self.COL)]for j in range(self.ROW)]        \n",
    "        print(f'Step 1- 2D Array Created: {self.arr}')\n",
    "        \n",
    "    #-------Defining Hash Function------------------\n",
    "    def get_hash(self,key,N):\n",
    "        self.N=N\n",
    "        hash=0\n",
    "        for char in key:\n",
    "            hash += ord(char)\n",
    "        return hash % self.N        \n",
    "    \n",
    "    #------Defining _setitem_ function to store PAN,Name Place in Hash Table-----\n",
    "    def __setitem__(self,key,value):\n",
    "        print(f'------------For PAN= {key}---------------------')\n",
    "        assesse=key[3]\n",
    "        #print(f'ROW inside setitem={self.ROW}')\n",
    "        h1=self.get_hash(assesse,self.ROW)\n",
    "        print(f'Hash 1 Generated={h1}')\n",
    "        h2=self.get_hash(key,self.COL)\n",
    "        print(f'Hash 2 Generated={h2}')\n",
    "        t=-1\n",
    "        print(f'self.arr[h1]={self.arr[h1]}')\n",
    "\n",
    "        #-----------Without Collision-----------------\n",
    "        print(f'self.arr[h1][h2]={self.arr[h1][h2]}')\n",
    "        if self.arr[h1][h2][0]==-1:\n",
    "            self.arr[h1][h2]=value\n",
    "            print(f'No collision')\n",
    "            #found=True\n",
    "            print(f'Final Hash Table= {self.arr}')\n",
    "            \n",
    "                    \n",
    "        #------Collision solution-using Quadratic probing-----    \n",
    "        else:\n",
    "            found=False;count=1\n",
    "            print(f'collision occured')\n",
    "            \n",
    "            while not found:                                                 \n",
    "                print(f'Quadratic probing ,finding new index')\n",
    "                t=(h2+count*count)% self.COL\n",
    "                print(f't={t}')\n",
    "                print(f'self.arr[h1][t]={self.arr[h1][t]}')                                                  \n",
    "                if self.arr[h1][t][0]==-1:\n",
    "                    print(f'New Index found ,resolving Collision,index= {t} inside arr.index= {h1}')\n",
    "                    found=True                           \n",
    "                    break      \n",
    "                else:\n",
    "                    count+=1\n",
    "            if found:\n",
    "                self.arr[h1][t]=value \n",
    "                print(f'Final Hash Table= {self.arr}')  \n",
    "\n",
    "  #---------------GET FUNCTION:FOR GETTNG THE SEARCH RESULT-------------------------------------------\n",
    "    def __getitem__(self,key):\n",
    "        print(f'------------Searching PAN= {key}---------------------')\n",
    "        if len(key)==1:\n",
    "            result_arr=[]\n",
    "            h1=self.get_hash(key,self.ROW)\n",
    "            for items in self.arr[h1]:\n",
    "                #result_arr.append(items[0]+items[1])\n",
    "                if items[0] != -1:\n",
    "                    result_arr.append(items[0]+\" \"+items[1])\n",
    "            return result_arr    \n",
    "        else:\n",
    "            assesse=key[3]\n",
    "            #print(f'ROW inside setitem={self.ROW}')\n",
    "            h1=self.get_hash(assesse,self.ROW)\n",
    "            #print(f'Hash 1 Generated={h1}')\n",
    "            h2=self.get_hash(key,self.COL)\n",
    "            print(f'Hash 2 Generated={h2}')\n",
    "            if self.arr[h1][h2][0]==key:\n",
    "                text=\"The entry \"+key+\" does exist –\"+ self.arr[h1][h2][1]\n",
    "                return(text) \n",
    "            elif self.arr[h1][h2][0]!=key:\n",
    "                count=1;found=False;t=-1\n",
    "                \n",
    "                while not found:\n",
    "                    t=(h2+count*count)% self.COL\n",
    "                    count+=1\n",
    "                    print(f't= {t}')\n",
    "                    if self.arr[h1][t][0]==key:\n",
    "                        print(f'key found at new index= {t}')\n",
    "                        found=True\n",
    "                        text=\"The entry \"+key+\" does exist –\"+ self.arr[h1][t][1]\n",
    "                        return(text)\n",
    "                                        \n",
    "            else:\n",
    "                text=\"The entry \"+key+\" does not exist\" \n",
    "                return(text)\n",
    "        \n",
    "\n",
    "    \n",
    "        \n",
    "#---------Main Function--Starting Block-------------------\n",
    "if __name__==\"__main__\":      \n",
    "    #Upload File from Local Space\n",
    "    print('*******SELECT FILE FROM OPENED WINDOW*******')\n",
    "    filename=upload()     \n",
    "    file_type=get_file_type(filename)\n",
    "    \n",
    "    #Create Class Object\n",
    "    key,value=\"\",\"\"\n",
    "    obj=HashTable(key,value)   \n",
    "    \n",
    "    if file_type== 'csv':\n",
    "        with open(filename, 'r') as csvfile:\n",
    "            csvreader = csv.reader(csvfile)  \n",
    "      \n",
    "            #Read each row of csv file \n",
    "            for rows in csvreader:\n",
    "                key=rows[0]\n",
    "                print('***************csv file*************************')\n",
    "                print(f'key={key}')\n",
    "                value=[key,rows[1]+' '+rows[2]]\n",
    "                print(f'value={value}')\n",
    "                obj[key]=value #call setitem\n",
    "        csvfile.close() \n",
    "    else:\n",
    "        with open(filename,'r') as txtfile:\n",
    "            txt_reader = txtfile.readlines()            \n",
    "            print(f'text_reader ={txt_reader}')\n",
    "            for rows in txt_reader:\n",
    "                rows=rows.split(' ')\n",
    "                key=rows[0]\n",
    "                print('****************text file************************')\n",
    "                #print(f'rows={rows}')\n",
    "                print(f'key={key}')\n",
    "                value=[key,' '.join(map(str,rows[1 :]))]\n",
    "                print(f'value={value}')\n",
    "                obj[key]=value #call setitem\n",
    "        txtfile.close()       \n",
    "    #--------------------------------------------------------------------------    \n",
    "    \n",
    "    #Input the Pan Number as text\n",
    "    while True:\n",
    "        pan_num=input(\"Enter PAN Number to Search or type 'exit' to close- \")\n",
    "        if pan_num =='exit':\n",
    "            break\n",
    "        if len(pan_num)>3 and pan_num[3] in 'CPHFATBLJG':\n",
    "            result=obj[pan_num]  #call getitem\n",
    "            print(result)\n",
    "        elif len(pan_num)==1 and pan_num in 'CPHFATBLJG':\n",
    "            result=obj[pan_num]  #call getitem\n",
    "            for entry in result:\n",
    "                print(entry)\n",
    "        else:\n",
    "            print('Entered Pan does not have valid Assesse ') "
   ]
  },
  {
   "cell_type": "code",
   "execution_count": 9,
   "metadata": {},
   "outputs": [
    {
     "name": "stdout",
     "output_type": "stream",
     "text": [
      "4\n"
     ]
    }
   ],
   "source": [
    "with open(filename, 'r') as csvfile:\n",
    "    csvreader = csv.reader(csvfile)\n",
    "    print(len(list(csvreader)))"
   ]
  },
  {
   "cell_type": "code",
   "execution_count": 5,
   "metadata": {},
   "outputs": [
    {
     "name": "stdout",
     "output_type": "stream",
     "text": [
      "C:/Users/yjoshi5.EAD/Desktop/Python/Python_basics/Assignement-BITS/Sample_data_PAN.csv\n"
     ]
    }
   ],
   "source": [
    "print(filename)"
   ]
  },
  {
   "cell_type": "code",
   "execution_count": 7,
   "metadata": {},
   "outputs": [
    {
     "name": "stdout",
     "output_type": "stream",
     "text": [
      "------------Searching PAN= ASRJD123M---------------------\n",
      "The entry ASRJD123M does not exist\n"
     ]
    }
   ],
   "source": [
    "print(obj['ASRJD123M' ])"
   ]
  },
  {
   "cell_type": "code",
   "execution_count": 4,
   "metadata": {},
   "outputs": [
    {
     "data": {
      "text/plain": [
       "'txt'"
      ]
     },
     "execution_count": 4,
     "metadata": {},
     "output_type": "execute_result"
    }
   ],
   "source": [
    "filename= 'a/b.txt'\n",
    "filename.split('.')[1]"
   ]
  },
  {
   "cell_type": "code",
   "execution_count": 21,
   "metadata": {},
   "outputs": [
    {
     "name": "stdout",
     "output_type": "stream",
     "text": [
      "['komal', 'bala', 'mumbai']\n"
     ]
    }
   ],
   "source": [
    "a=['bd123','komal','bala','mumbai']\n",
    "print(a[1 :])"
   ]
  },
  {
   "cell_type": "code",
   "execution_count": null,
   "metadata": {},
   "outputs": [],
   "source": []
  }
 ],
 "metadata": {
  "kernelspec": {
   "display_name": "Python 3",
   "language": "python",
   "name": "python3"
  },
  "language_info": {
   "codemirror_mode": {
    "name": "ipython",
    "version": 3
   },
   "file_extension": ".py",
   "mimetype": "text/x-python",
   "name": "python",
   "nbconvert_exporter": "python",
   "pygments_lexer": "ipython3",
   "version": "3.7.3"
  }
 },
 "nbformat": 4,
 "nbformat_minor": 2
}
