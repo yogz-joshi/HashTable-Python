{
 "cells": [
  {
   "cell_type": "code",
   "execution_count": 2,
   "metadata": {},
   "outputs": [
    {
     "name": "stdout",
     "output_type": "stream",
     "text": [
      "-1\n",
      "-1\n"
     ]
    }
   ],
   "source": [
    "arr=[[('wer','noida'),('wewqa','agra')],[-1,-1],[-1,-1],[('rtqa','mathura')]]\n",
    "for item in arr[1]:\n",
    "    print(item)"
   ]
  },
  {
   "cell_type": "code",
   "execution_count": 26,
   "metadata": {},
   "outputs": [
    {
     "name": "stdout",
     "output_type": "stream",
     "text": [
      "[[(-1, -1), (-1, -1), (-1, -1), (-1, -1)], [(-1, -1), (-1, -1), (-1, -1), (-1, -1)], [(-1, -1), (-1, -1), (-1, -1), (-1, -1)], [(-1, -1), (-1, -1), (-1, -1), (-1, -1)], [(-1, -1), (-1, -1), (-1, -1), (-1, -1)], [(-1, -1), (-1, -1), (-1, -1), (-1, -1)], [(-1, -1), (-1, -1), (-1, -1), (-1, -1)], [(-1, -1), (-1, -1), (-1, -1), (-1, -1)], [(-1, -1), (-1, -1), (-1, -1), (-1, -1)], [(-1, -1), (-1, -1), (-1, -1), (-1, -1)]]\n"
     ]
    }
   ],
   "source": [
    "row=10;col=4\n",
    "arr=[[(-1,-1) for i in range(col) ] for j in range(row)]\n",
    "print(arr)"
   ]
  },
  {
   "cell_type": "code",
   "execution_count": 79,
   "metadata": {},
   "outputs": [
    {
     "name": "stdout",
     "output_type": "stream",
     "text": [
      "\n"
     ]
    }
   ],
   "source": [
    "from tkinter import Tk     # from tkinter import Tk for Python 3.x\n",
    "from tkinter.filedialog import askopenfilename\n",
    "\n",
    "Tk().withdraw() # we don't want a full GUI, so keep the root window from appearing\n",
    "filename = askopenfilename() # show an \"Open\" dialog box and return the path to the selected file\n",
    "print(filename)"
   ]
  },
  {
   "cell_type": "code",
   "execution_count": 8,
   "metadata": {},
   "outputs": [
    {
     "name": "stdout",
     "output_type": "stream",
     "text": [
      "*******SELECT FILE FROM OPENED WINDOW*******\n",
      "C:/Users/yjoshi5.EAD/Desktop/Python/Python_basics/Assignement-BITS/Sample_data_PAN.csv\n",
      "Step 1- 2D Array Created: [[[-1, -1], [-1, -1], [-1, -1], [-1, -1], [-1, -1], [-1, -1], [-1, -1], [-1, -1], [-1, -1], [-1, -1]], [[-1, -1], [-1, -1], [-1, -1], [-1, -1], [-1, -1], [-1, -1], [-1, -1], [-1, -1], [-1, -1], [-1, -1]], [[-1, -1], [-1, -1], [-1, -1], [-1, -1], [-1, -1], [-1, -1], [-1, -1], [-1, -1], [-1, -1], [-1, -1]], [[-1, -1], [-1, -1], [-1, -1], [-1, -1], [-1, -1], [-1, -1], [-1, -1], [-1, -1], [-1, -1], [-1, -1]], [[-1, -1], [-1, -1], [-1, -1], [-1, -1], [-1, -1], [-1, -1], [-1, -1], [-1, -1], [-1, -1], [-1, -1]], [[-1, -1], [-1, -1], [-1, -1], [-1, -1], [-1, -1], [-1, -1], [-1, -1], [-1, -1], [-1, -1], [-1, -1]], [[-1, -1], [-1, -1], [-1, -1], [-1, -1], [-1, -1], [-1, -1], [-1, -1], [-1, -1], [-1, -1], [-1, -1]], [[-1, -1], [-1, -1], [-1, -1], [-1, -1], [-1, -1], [-1, -1], [-1, -1], [-1, -1], [-1, -1], [-1, -1]], [[-1, -1], [-1, -1], [-1, -1], [-1, -1], [-1, -1], [-1, -1], [-1, -1], [-1, -1], [-1, -1], [-1, -1]], [[-1, -1], [-1, -1], [-1, -1], [-1, -1], [-1, -1], [-1, -1], [-1, -1], [-1, -1], [-1, -1], [-1, -1]]]\n",
      "****************************************\n",
      "key=ASDJD123M\n",
      "value=['ASDJD123M', 'ARUN MATHURA']\n",
      "------------For PAN= ASDJD123M---------------------\n",
      "Hash 1 Generated=4\n",
      "Hash 2 Generated=5\n",
      "self.arr[h1]=[[-1, -1], [-1, -1], [-1, -1], [-1, -1], [-1, -1], [-1, -1], [-1, -1], [-1, -1], [-1, -1], [-1, -1]]\n",
      "self.arr[h1][h2]=[-1, -1]\n",
      "No collision\n",
      "Final Hash Table= [[[-1, -1], [-1, -1], [-1, -1], [-1, -1], [-1, -1], [-1, -1], [-1, -1], [-1, -1], [-1, -1], [-1, -1]], [[-1, -1], [-1, -1], [-1, -1], [-1, -1], [-1, -1], [-1, -1], [-1, -1], [-1, -1], [-1, -1], [-1, -1]], [[-1, -1], [-1, -1], [-1, -1], [-1, -1], [-1, -1], [-1, -1], [-1, -1], [-1, -1], [-1, -1], [-1, -1]], [[-1, -1], [-1, -1], [-1, -1], [-1, -1], [-1, -1], [-1, -1], [-1, -1], [-1, -1], [-1, -1], [-1, -1]], [[-1, -1], [-1, -1], [-1, -1], [-1, -1], [-1, -1], ['ASDJD123M', 'ARUN MATHURA'], [-1, -1], [-1, -1], [-1, -1], [-1, -1]], [[-1, -1], [-1, -1], [-1, -1], [-1, -1], [-1, -1], [-1, -1], [-1, -1], [-1, -1], [-1, -1], [-1, -1]], [[-1, -1], [-1, -1], [-1, -1], [-1, -1], [-1, -1], [-1, -1], [-1, -1], [-1, -1], [-1, -1], [-1, -1]], [[-1, -1], [-1, -1], [-1, -1], [-1, -1], [-1, -1], [-1, -1], [-1, -1], [-1, -1], [-1, -1], [-1, -1]], [[-1, -1], [-1, -1], [-1, -1], [-1, -1], [-1, -1], [-1, -1], [-1, -1], [-1, -1], [-1, -1], [-1, -1]], [[-1, -1], [-1, -1], [-1, -1], [-1, -1], [-1, -1], [-1, -1], [-1, -1], [-1, -1], [-1, -1], [-1, -1]]]\n",
      "****************************************\n",
      "key=BEXPJ0927D\n",
      "value=['BEXPJ0927D', 'Yogesh Joshi Noida']\n",
      "------------For PAN= BEXPJ0927D---------------------\n",
      "Hash 1 Generated=0\n",
      "Hash 2 Generated=5\n",
      "self.arr[h1]=[[-1, -1], [-1, -1], [-1, -1], [-1, -1], [-1, -1], [-1, -1], [-1, -1], [-1, -1], [-1, -1], [-1, -1]]\n",
      "self.arr[h1][h2]=[-1, -1]\n",
      "No collision\n",
      "Final Hash Table= [[[-1, -1], [-1, -1], [-1, -1], [-1, -1], [-1, -1], ['BEXPJ0927D', 'Yogesh Joshi Noida'], [-1, -1], [-1, -1], [-1, -1], [-1, -1]], [[-1, -1], [-1, -1], [-1, -1], [-1, -1], [-1, -1], [-1, -1], [-1, -1], [-1, -1], [-1, -1], [-1, -1]], [[-1, -1], [-1, -1], [-1, -1], [-1, -1], [-1, -1], [-1, -1], [-1, -1], [-1, -1], [-1, -1], [-1, -1]], [[-1, -1], [-1, -1], [-1, -1], [-1, -1], [-1, -1], [-1, -1], [-1, -1], [-1, -1], [-1, -1], [-1, -1]], [[-1, -1], [-1, -1], [-1, -1], [-1, -1], [-1, -1], ['ASDJD123M', 'ARUN MATHURA'], [-1, -1], [-1, -1], [-1, -1], [-1, -1]], [[-1, -1], [-1, -1], [-1, -1], [-1, -1], [-1, -1], [-1, -1], [-1, -1], [-1, -1], [-1, -1], [-1, -1]], [[-1, -1], [-1, -1], [-1, -1], [-1, -1], [-1, -1], [-1, -1], [-1, -1], [-1, -1], [-1, -1], [-1, -1]], [[-1, -1], [-1, -1], [-1, -1], [-1, -1], [-1, -1], [-1, -1], [-1, -1], [-1, -1], [-1, -1], [-1, -1]], [[-1, -1], [-1, -1], [-1, -1], [-1, -1], [-1, -1], [-1, -1], [-1, -1], [-1, -1], [-1, -1], [-1, -1]], [[-1, -1], [-1, -1], [-1, -1], [-1, -1], [-1, -1], [-1, -1], [-1, -1], [-1, -1], [-1, -1], [-1, -1]]]\n",
      "****************************************\n",
      "key=ABXC987ds\n",
      "value=['ABXC987ds', 'ram kumar delhi']\n",
      "------------For PAN= ABXC987ds---------------------\n",
      "Hash 1 Generated=7\n",
      "Hash 2 Generated=9\n",
      "self.arr[h1]=[[-1, -1], [-1, -1], [-1, -1], [-1, -1], [-1, -1], [-1, -1], [-1, -1], [-1, -1], [-1, -1], [-1, -1]]\n",
      "self.arr[h1][h2]=[-1, -1]\n",
      "No collision\n",
      "Final Hash Table= [[[-1, -1], [-1, -1], [-1, -1], [-1, -1], [-1, -1], ['BEXPJ0927D', 'Yogesh Joshi Noida'], [-1, -1], [-1, -1], [-1, -1], [-1, -1]], [[-1, -1], [-1, -1], [-1, -1], [-1, -1], [-1, -1], [-1, -1], [-1, -1], [-1, -1], [-1, -1], [-1, -1]], [[-1, -1], [-1, -1], [-1, -1], [-1, -1], [-1, -1], [-1, -1], [-1, -1], [-1, -1], [-1, -1], [-1, -1]], [[-1, -1], [-1, -1], [-1, -1], [-1, -1], [-1, -1], [-1, -1], [-1, -1], [-1, -1], [-1, -1], [-1, -1]], [[-1, -1], [-1, -1], [-1, -1], [-1, -1], [-1, -1], ['ASDJD123M', 'ARUN MATHURA'], [-1, -1], [-1, -1], [-1, -1], [-1, -1]], [[-1, -1], [-1, -1], [-1, -1], [-1, -1], [-1, -1], [-1, -1], [-1, -1], [-1, -1], [-1, -1], [-1, -1]], [[-1, -1], [-1, -1], [-1, -1], [-1, -1], [-1, -1], [-1, -1], [-1, -1], [-1, -1], [-1, -1], [-1, -1]], [[-1, -1], [-1, -1], [-1, -1], [-1, -1], [-1, -1], [-1, -1], [-1, -1], [-1, -1], [-1, -1], ['ABXC987ds', 'ram kumar delhi']], [[-1, -1], [-1, -1], [-1, -1], [-1, -1], [-1, -1], [-1, -1], [-1, -1], [-1, -1], [-1, -1], [-1, -1]], [[-1, -1], [-1, -1], [-1, -1], [-1, -1], [-1, -1], [-1, -1], [-1, -1], [-1, -1], [-1, -1], [-1, -1]]]\n",
      "****************************************\n",
      "key=BEXPJ0927D\n",
      "value=['BEXPJ0927D', 'arjun khanna chennai']\n",
      "------------For PAN= BEXPJ0927D---------------------\n",
      "Hash 1 Generated=0\n",
      "Hash 2 Generated=5\n",
      "self.arr[h1]=[[-1, -1], [-1, -1], [-1, -1], [-1, -1], [-1, -1], ['BEXPJ0927D', 'Yogesh Joshi Noida'], [-1, -1], [-1, -1], [-1, -1], [-1, -1]]\n",
      "self.arr[h1][h2]=['BEXPJ0927D', 'Yogesh Joshi Noida']\n",
      "collision occured\n",
      "Quadratic probing ,finding new index\n",
      "t=6\n",
      "self.arr[h1][t]=[-1, -1]\n",
      "New Index found ,resolving Collision,index= 6 inside arr.index= 0\n",
      "Final Hash Table= [[[-1, -1], [-1, -1], [-1, -1], [-1, -1], [-1, -1], ['BEXPJ0927D', 'Yogesh Joshi Noida'], ['BEXPJ0927D', 'arjun khanna chennai'], [-1, -1], [-1, -1], [-1, -1]], [[-1, -1], [-1, -1], [-1, -1], [-1, -1], [-1, -1], [-1, -1], [-1, -1], [-1, -1], [-1, -1], [-1, -1]], [[-1, -1], [-1, -1], [-1, -1], [-1, -1], [-1, -1], [-1, -1], [-1, -1], [-1, -1], [-1, -1], [-1, -1]], [[-1, -1], [-1, -1], [-1, -1], [-1, -1], [-1, -1], [-1, -1], [-1, -1], [-1, -1], [-1, -1], [-1, -1]], [[-1, -1], [-1, -1], [-1, -1], [-1, -1], [-1, -1], ['ASDJD123M', 'ARUN MATHURA'], [-1, -1], [-1, -1], [-1, -1], [-1, -1]], [[-1, -1], [-1, -1], [-1, -1], [-1, -1], [-1, -1], [-1, -1], [-1, -1], [-1, -1], [-1, -1], [-1, -1]], [[-1, -1], [-1, -1], [-1, -1], [-1, -1], [-1, -1], [-1, -1], [-1, -1], [-1, -1], [-1, -1], [-1, -1]], [[-1, -1], [-1, -1], [-1, -1], [-1, -1], [-1, -1], [-1, -1], [-1, -1], [-1, -1], [-1, -1], ['ABXC987ds', 'ram kumar delhi']], [[-1, -1], [-1, -1], [-1, -1], [-1, -1], [-1, -1], [-1, -1], [-1, -1], [-1, -1], [-1, -1], [-1, -1]], [[-1, -1], [-1, -1], [-1, -1], [-1, -1], [-1, -1], [-1, -1], [-1, -1], [-1, -1], [-1, -1], [-1, -1]]]\n",
      "****************************************\n",
      "key=ASDCD123M\n",
      "value=['ASDCD123M', 'Mohit Mumbai']\n",
      "------------For PAN= ASDCD123M---------------------\n",
      "Hash 1 Generated=7\n",
      "Hash 2 Generated=8\n",
      "self.arr[h1]=[[-1, -1], [-1, -1], [-1, -1], [-1, -1], [-1, -1], [-1, -1], [-1, -1], [-1, -1], [-1, -1], ['ABXC987ds', 'ram kumar delhi']]\n",
      "self.arr[h1][h2]=[-1, -1]\n",
      "No collision\n",
      "Final Hash Table= [[[-1, -1], [-1, -1], [-1, -1], [-1, -1], [-1, -1], ['BEXPJ0927D', 'Yogesh Joshi Noida'], ['BEXPJ0927D', 'arjun khanna chennai'], [-1, -1], [-1, -1], [-1, -1]], [[-1, -1], [-1, -1], [-1, -1], [-1, -1], [-1, -1], [-1, -1], [-1, -1], [-1, -1], [-1, -1], [-1, -1]], [[-1, -1], [-1, -1], [-1, -1], [-1, -1], [-1, -1], [-1, -1], [-1, -1], [-1, -1], [-1, -1], [-1, -1]], [[-1, -1], [-1, -1], [-1, -1], [-1, -1], [-1, -1], [-1, -1], [-1, -1], [-1, -1], [-1, -1], [-1, -1]], [[-1, -1], [-1, -1], [-1, -1], [-1, -1], [-1, -1], ['ASDJD123M', 'ARUN MATHURA'], [-1, -1], [-1, -1], [-1, -1], [-1, -1]], [[-1, -1], [-1, -1], [-1, -1], [-1, -1], [-1, -1], [-1, -1], [-1, -1], [-1, -1], [-1, -1], [-1, -1]], [[-1, -1], [-1, -1], [-1, -1], [-1, -1], [-1, -1], [-1, -1], [-1, -1], [-1, -1], [-1, -1], [-1, -1]], [[-1, -1], [-1, -1], [-1, -1], [-1, -1], [-1, -1], [-1, -1], [-1, -1], [-1, -1], ['ASDCD123M', 'Mohit Mumbai'], ['ABXC987ds', 'ram kumar delhi']], [[-1, -1], [-1, -1], [-1, -1], [-1, -1], [-1, -1], [-1, -1], [-1, -1], [-1, -1], [-1, -1], [-1, -1]], [[-1, -1], [-1, -1], [-1, -1], [-1, -1], [-1, -1], [-1, -1], [-1, -1], [-1, -1], [-1, -1], [-1, -1]]]\n",
      "****************************************\n",
      "key=POCP9870H\n",
      "value=['POCP9870H', 'Sundar Pauri']\n",
      "------------For PAN= POCP9870H---------------------\n",
      "Hash 1 Generated=0\n",
      "Hash 2 Generated=4\n",
      "self.arr[h1]=[[-1, -1], [-1, -1], [-1, -1], [-1, -1], [-1, -1], ['BEXPJ0927D', 'Yogesh Joshi Noida'], ['BEXPJ0927D', 'arjun khanna chennai'], [-1, -1], [-1, -1], [-1, -1]]\n",
      "self.arr[h1][h2]=[-1, -1]\n",
      "No collision\n",
      "Final Hash Table= [[[-1, -1], [-1, -1], [-1, -1], [-1, -1], ['POCP9870H', 'Sundar Pauri'], ['BEXPJ0927D', 'Yogesh Joshi Noida'], ['BEXPJ0927D', 'arjun khanna chennai'], [-1, -1], [-1, -1], [-1, -1]], [[-1, -1], [-1, -1], [-1, -1], [-1, -1], [-1, -1], [-1, -1], [-1, -1], [-1, -1], [-1, -1], [-1, -1]], [[-1, -1], [-1, -1], [-1, -1], [-1, -1], [-1, -1], [-1, -1], [-1, -1], [-1, -1], [-1, -1], [-1, -1]], [[-1, -1], [-1, -1], [-1, -1], [-1, -1], [-1, -1], [-1, -1], [-1, -1], [-1, -1], [-1, -1], [-1, -1]], [[-1, -1], [-1, -1], [-1, -1], [-1, -1], [-1, -1], ['ASDJD123M', 'ARUN MATHURA'], [-1, -1], [-1, -1], [-1, -1], [-1, -1]], [[-1, -1], [-1, -1], [-1, -1], [-1, -1], [-1, -1], [-1, -1], [-1, -1], [-1, -1], [-1, -1], [-1, -1]], [[-1, -1], [-1, -1], [-1, -1], [-1, -1], [-1, -1], [-1, -1], [-1, -1], [-1, -1], [-1, -1], [-1, -1]], [[-1, -1], [-1, -1], [-1, -1], [-1, -1], [-1, -1], [-1, -1], [-1, -1], [-1, -1], ['ASDCD123M', 'Mohit Mumbai'], ['ABXC987ds', 'ram kumar delhi']], [[-1, -1], [-1, -1], [-1, -1], [-1, -1], [-1, -1], [-1, -1], [-1, -1], [-1, -1], [-1, -1], [-1, -1]], [[-1, -1], [-1, -1], [-1, -1], [-1, -1], [-1, -1], [-1, -1], [-1, -1], [-1, -1], [-1, -1], [-1, -1]]]\n",
      "****************************************\n",
      "key=DEMC9821\n",
      "value=['DEMC9821', 'Kavya Noida']\n",
      "------------For PAN= DEMC9821---------------------\n",
      "Hash 1 Generated=7\n",
      "Hash 2 Generated=3\n",
      "self.arr[h1]=[[-1, -1], [-1, -1], [-1, -1], [-1, -1], [-1, -1], [-1, -1], [-1, -1], [-1, -1], ['ASDCD123M', 'Mohit Mumbai'], ['ABXC987ds', 'ram kumar delhi']]\n",
      "self.arr[h1][h2]=[-1, -1]\n",
      "No collision\n",
      "Final Hash Table= [[[-1, -1], [-1, -1], [-1, -1], [-1, -1], ['POCP9870H', 'Sundar Pauri'], ['BEXPJ0927D', 'Yogesh Joshi Noida'], ['BEXPJ0927D', 'arjun khanna chennai'], [-1, -1], [-1, -1], [-1, -1]], [[-1, -1], [-1, -1], [-1, -1], [-1, -1], [-1, -1], [-1, -1], [-1, -1], [-1, -1], [-1, -1], [-1, -1]], [[-1, -1], [-1, -1], [-1, -1], [-1, -1], [-1, -1], [-1, -1], [-1, -1], [-1, -1], [-1, -1], [-1, -1]], [[-1, -1], [-1, -1], [-1, -1], [-1, -1], [-1, -1], [-1, -1], [-1, -1], [-1, -1], [-1, -1], [-1, -1]], [[-1, -1], [-1, -1], [-1, -1], [-1, -1], [-1, -1], ['ASDJD123M', 'ARUN MATHURA'], [-1, -1], [-1, -1], [-1, -1], [-1, -1]], [[-1, -1], [-1, -1], [-1, -1], [-1, -1], [-1, -1], [-1, -1], [-1, -1], [-1, -1], [-1, -1], [-1, -1]], [[-1, -1], [-1, -1], [-1, -1], [-1, -1], [-1, -1], [-1, -1], [-1, -1], [-1, -1], [-1, -1], [-1, -1]], [[-1, -1], [-1, -1], [-1, -1], ['DEMC9821', 'Kavya Noida'], [-1, -1], [-1, -1], [-1, -1], [-1, -1], ['ASDCD123M', 'Mohit Mumbai'], ['ABXC987ds', 'ram kumar delhi']], [[-1, -1], [-1, -1], [-1, -1], [-1, -1], [-1, -1], [-1, -1], [-1, -1], [-1, -1], [-1, -1], [-1, -1]], [[-1, -1], [-1, -1], [-1, -1], [-1, -1], [-1, -1], [-1, -1], [-1, -1], [-1, -1], [-1, -1], [-1, -1]]]\n",
      "****************************************\n",
      "key=DECC7834G\n",
      "value=['DECC7834G', 'Tulya Thal']\n",
      "------------For PAN= DECC7834G---------------------\n",
      "Hash 1 Generated=7\n",
      "Hash 2 Generated=6\n",
      "self.arr[h1]=[[-1, -1], [-1, -1], [-1, -1], ['DEMC9821', 'Kavya Noida'], [-1, -1], [-1, -1], [-1, -1], [-1, -1], ['ASDCD123M', 'Mohit Mumbai'], ['ABXC987ds', 'ram kumar delhi']]\n",
      "self.arr[h1][h2]=[-1, -1]\n",
      "No collision\n",
      "Final Hash Table= [[[-1, -1], [-1, -1], [-1, -1], [-1, -1], ['POCP9870H', 'Sundar Pauri'], ['BEXPJ0927D', 'Yogesh Joshi Noida'], ['BEXPJ0927D', 'arjun khanna chennai'], [-1, -1], [-1, -1], [-1, -1]], [[-1, -1], [-1, -1], [-1, -1], [-1, -1], [-1, -1], [-1, -1], [-1, -1], [-1, -1], [-1, -1], [-1, -1]], [[-1, -1], [-1, -1], [-1, -1], [-1, -1], [-1, -1], [-1, -1], [-1, -1], [-1, -1], [-1, -1], [-1, -1]], [[-1, -1], [-1, -1], [-1, -1], [-1, -1], [-1, -1], [-1, -1], [-1, -1], [-1, -1], [-1, -1], [-1, -1]], [[-1, -1], [-1, -1], [-1, -1], [-1, -1], [-1, -1], ['ASDJD123M', 'ARUN MATHURA'], [-1, -1], [-1, -1], [-1, -1], [-1, -1]], [[-1, -1], [-1, -1], [-1, -1], [-1, -1], [-1, -1], [-1, -1], [-1, -1], [-1, -1], [-1, -1], [-1, -1]], [[-1, -1], [-1, -1], [-1, -1], [-1, -1], [-1, -1], [-1, -1], [-1, -1], [-1, -1], [-1, -1], [-1, -1]], [[-1, -1], [-1, -1], [-1, -1], ['DEMC9821', 'Kavya Noida'], [-1, -1], [-1, -1], ['DECC7834G', 'Tulya Thal'], [-1, -1], ['ASDCD123M', 'Mohit Mumbai'], ['ABXC987ds', 'ram kumar delhi']], [[-1, -1], [-1, -1], [-1, -1], [-1, -1], [-1, -1], [-1, -1], [-1, -1], [-1, -1], [-1, -1], [-1, -1]], [[-1, -1], [-1, -1], [-1, -1], [-1, -1], [-1, -1], [-1, -1], [-1, -1], [-1, -1], [-1, -1], [-1, -1]]]\n"
     ]
    },
    {
     "name": "stdout",
     "output_type": "stream",
     "text": [
      "Enter PAN Number to Search or type 'exit' to close- C\n",
      "------------Searching PAN= C---------------------\n",
      "DEMC9821 Kavya Noida\n",
      "DECC7834G Tulya Thal\n",
      "ASDCD123M Mohit Mumbai\n",
      "ABXC987ds ram kumar delhi\n",
      "Enter PAN Number to Search or type 'exit' to close- ASDCD123M \n",
      "------------Searching PAN= ASDCD123M ---------------------\n",
      "The entry ASDCD123M  does not exist\n",
      "Enter PAN Number to Search or type 'exit' to close- ASDCD123M\n",
      "------------Searching PAN= ASDCD123M---------------------\n",
      "The entry ASDCD123M does exist –Mohit Mumbai\n",
      "Enter PAN Number to Search or type 'exit' to close- exit\n"
     ]
    }
   ],
   "source": [
    "'''\n",
    "PYTHON PROGRAMMING LANGUAGE\n",
    "CODING PLATFORM CAN BE USED- JUPYTER NOTEBOOK /SPYDER/ PYCHARM\n",
    " \n",
    "'''\n",
    "import csv\n",
    "#Class definition\n",
    "\n",
    "def upload():\n",
    "        from tkinter import Tk \n",
    "        from tkinter.filedialog import askopenfilename    \n",
    "        Tk().withdraw() # we don't want a full GUI, so keep the root window from appearing\n",
    "        filename = askopenfilename() # show an \"Open\" dialog box and return the path to the selected file\n",
    "        print(filename)\n",
    "        return(filename)\n",
    "    \n",
    "class HashTable:\n",
    "    #Initialisation\n",
    "    def __init__(self,key,value):       \n",
    "        self.ROW=10\n",
    "        self.COL=10\n",
    "        self.key=key\n",
    "        self.value=value\n",
    "        #create 2D array (10*1000)\n",
    "        self.arr=[[[-1,-1] for i in range(self.COL)]for j in range(self.ROW)]        \n",
    "        print(f'Step 1- 2D Array Created: {self.arr}')\n",
    "        \n",
    "    #-------Defining Hash Function------------------\n",
    "    def get_hash(self,key,N):\n",
    "        self.N=N\n",
    "        hash=0\n",
    "        for char in key:\n",
    "            hash += ord(char)\n",
    "        return hash % self.N        \n",
    "    \n",
    "    #------Defining _setitem_ function to store PAN,Name Place in Hash Table-----\n",
    "    def __setitem__(self,key,value):\n",
    "        print(f'------------For PAN= {key}---------------------')\n",
    "        assesse=key[3]\n",
    "        #print(f'ROW inside setitem={self.ROW}')\n",
    "        h1=self.get_hash(assesse,self.ROW)\n",
    "        print(f'Hash 1 Generated={h1}')\n",
    "        h2=self.get_hash(key,self.COL)\n",
    "        print(f'Hash 2 Generated={h2}')\n",
    "        t=-1\n",
    "        print(f'self.arr[h1]={self.arr[h1]}')\n",
    "\n",
    "        #-----------Without Collision-----------------\n",
    "        print(f'self.arr[h1][h2]={self.arr[h1][h2]}')\n",
    "        if self.arr[h1][h2][0]==-1:\n",
    "            self.arr[h1][h2]=value\n",
    "            print(f'No collision')\n",
    "            #found=True\n",
    "            print(f'Final Hash Table= {self.arr}')\n",
    "            \n",
    "                    \n",
    "        #------Collision solution-using Quadratic probing-----    \n",
    "        else:\n",
    "            found=False;count=1\n",
    "            print(f'collision occured')\n",
    "            \n",
    "            while not found:                                                 \n",
    "                print(f'Quadratic probing ,finding new index')\n",
    "                t=(h2+count*count)% self.COL\n",
    "                print(f't={t}')\n",
    "                print(f'self.arr[h1][t]={self.arr[h1][t]}')                                                  \n",
    "                if self.arr[h1][t][0]==-1:\n",
    "                    print(f'New Index found ,resolving Collision,index= {t} inside arr.index= {h1}')\n",
    "                    found=True                           \n",
    "                    break      \n",
    "                else:\n",
    "                    count+=1\n",
    "            if found:\n",
    "                self.arr[h1][t]=value \n",
    "                print(f'Final Hash Table= {self.arr}')  \n",
    "\n",
    "  #---------------GET FUNCTION:FOR GETTNG THE SEARCH RESULT-------------------------------------------\n",
    "    def __getitem__(self,key):\n",
    "        print(f'------------Searching PAN= {key}---------------------')\n",
    "        if len(key)==1:\n",
    "            result_arr=[]\n",
    "            h1=self.get_hash(key,self.ROW)\n",
    "            for items in self.arr[h1]:\n",
    "                #result_arr.append(items[0]+items[1])\n",
    "                if items[0] != -1:\n",
    "                    result_arr.append(items[0]+\" \"+items[1])\n",
    "            return result_arr    \n",
    "        else:\n",
    "            assesse=key[3]\n",
    "            #print(f'ROW inside setitem={self.ROW}')\n",
    "            h1=self.get_hash(assesse,self.ROW)\n",
    "            #print(f'Hash 1 Generated={h1}')\n",
    "            h2=self.get_hash(key,self.COL)\n",
    "            #print(f'Hash 2 Generated={h2}')\n",
    "            if self.arr[h1][h2][0]==key:\n",
    "                text=\"The entry \"+key+\" does exist –\"+ self.arr[h1][h2][1]\n",
    "                return(text) \n",
    "            else:\n",
    "                text=\"The entry \"+key+\" does not exist\" \n",
    "                return(text)\n",
    "        \n",
    "\n",
    "    \n",
    "        \n",
    "#---------Main Function--Starting Block-------------------\n",
    "if __name__==\"__main__\":      \n",
    "    #Upload File from Local Space\n",
    "    print('*******SELECT FILE FROM OPENED WINDOW*******')\n",
    "    filename=upload() \n",
    "    with open(filename, 'r') as csvfile:\n",
    "        csvreader = csv.reader(csvfile)  \n",
    "        #Create Class Object\n",
    "        key,value=\"\",\"\"\n",
    "        obj=HashTable(key,value)        \n",
    "        #Read each row of csv file \n",
    "        for rows in csvreader:\n",
    "            key=rows[0]\n",
    "            print('****************************************')\n",
    "            print(f'key={key}')\n",
    "            value=[key,rows[1]+' '+rows[2]]\n",
    "            print(f'value={value}')\n",
    "            obj[key]=value #call setitem\n",
    "    csvfile.close() \n",
    "        \n",
    "    #Input the Pan Number as text\n",
    "    while True:\n",
    "        pan_num=input(\"Enter PAN Number to Search or type 'exit' to close- \")\n",
    "        if pan_num =='exit':\n",
    "            break\n",
    "        if len(pan_num)>3 and pan_num[3] in 'CPHFATBLJG':\n",
    "            result=obj[pan_num]  #call getitem\n",
    "            print(result)\n",
    "        elif len(pan_num)==1 and pan_num in 'CPHFATBLJG':\n",
    "            result=obj[pan_num]  #call getitem\n",
    "            for entry in result:\n",
    "                print(entry)\n",
    "        else:\n",
    "            print('Entered Pan does not have valid Assesse ') "
   ]
  },
  {
   "cell_type": "code",
   "execution_count": 9,
   "metadata": {},
   "outputs": [
    {
     "name": "stdout",
     "output_type": "stream",
     "text": [
      "4\n"
     ]
    }
   ],
   "source": [
    "with open(filename, 'r') as csvfile:\n",
    "    csvreader = csv.reader(csvfile)\n",
    "    print(len(list(csvreader)))"
   ]
  },
  {
   "cell_type": "code",
   "execution_count": 5,
   "metadata": {},
   "outputs": [
    {
     "name": "stdout",
     "output_type": "stream",
     "text": [
      "C:/Users/yjoshi5.EAD/Desktop/Python/Python_basics/Assignement-BITS/Sample_data_PAN.csv\n"
     ]
    }
   ],
   "source": [
    "print(filename)"
   ]
  },
  {
   "cell_type": "code",
   "execution_count": 7,
   "metadata": {},
   "outputs": [
    {
     "name": "stdout",
     "output_type": "stream",
     "text": [
      "------------Searching PAN= ASRJD123M---------------------\n",
      "The entry ASRJD123M does not exist\n"
     ]
    }
   ],
   "source": [
    "print(obj['ASRJD123M' ])"
   ]
  },
  {
   "cell_type": "code",
   "execution_count": null,
   "metadata": {},
   "outputs": [],
   "source": []
  }
 ],
 "metadata": {
  "kernelspec": {
   "display_name": "Python 3",
   "language": "python",
   "name": "python3"
  }
 },
 "nbformat": 4,
 "nbformat_minor": 2
}
